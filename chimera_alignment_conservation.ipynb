{
 "cells": [
  {
   "cell_type": "markdown",
   "id": "aea52406-47d0-439d-9472-3649d5669b36",
   "metadata": {},
   "source": [
    "# ChimeraX/AlphaFold Alignment and Conservation\n",
    "This tutorial will guide you through exploring structural alignment of AlphaFold predicted proteins.  We will compare the HoxB1 protein structure across evolutionary history and explore the regions where it is more and less conserved.\n",
    "\n",
    "I like to do protein alignments and browse the AlphaFold database via the web database, Uniprot.  To begin with, let's explore the alignment of HoxB1 proteins from Human (P14653), Mouse (P17919), Zebrafish (O42366), Drosophila (P10105), and C. Elegans (P17488).  Note that flies and worms don't have exact correspondences to HoxB1 in vertebrates but that should reveal itself in our exploration."
   ]
  },
  {
   "cell_type": "markdown",
   "id": "0ade155f-e23e-4550-ad2e-5ba55753b0ca",
   "metadata": {},
   "source": [
    "### Step 1: Sequence Alignment\n",
    "Step 1 is to align these proteins in Uniprot.  On the top of the uniprot home page there is an Alignment tool link.  That web tool runs the program clustal omega to align proteins.  You can enter protein sequences but since we know the protein IDs (see above) we can just enter them one at a time in the ID box.  Once you have them entered, you can start the alignment by clicking the \"Align 5 sequences\" button."
   ]
  },
  {
   "cell_type": "markdown",
   "id": "7eaf25d7-2e29-4d13-90c6-965011a5069d",
   "metadata": {},
   "source": [
    "I like to visualize the alignment in the \"Overview\" mode.  In that mode you can drag the gray slider to different parts of the alignment and zoom in and out of the alignment.  As you can see, the Drosophila sequence is the most divergent with some fairly long spans that aren't seen in the other forms but in the overlapping regions the conservation is high.  If you want you can look at the phylogenetic tree which shows (as expected) that human and mouse are fairly similar with zebrafish diverging more and drosophila and c. elegans being the most different.\n",
    "\n",
    "![uniprot_alignment.png](uniprot_alignment.png)\n",
    "\n",
    "Before we exit this tool, click the Download link towards the top.  We can download the \"Resulting alignment in Clustal format\".  If you right click the Download button you can \"Save link as...\" to save the result to your computer.  The program will save the result as \".clustal\" file which we can use later.  If you want, you can view the file with any text editor.  It's a good idea to create a folder for our project at this point."
   ]
  },
  {
   "cell_type": "markdown",
   "id": "4c6f5041-bcec-419b-b45e-91861156a414",
   "metadata": {},
   "source": [
    "### Step 2: Structural Download and Alignment\n",
    "In order to explore these proteins structurally, we need structural models for them.  Obviously not all of these have solved structures, but we can use the AlphaFold predictions instead.  If you click on the link for each protein in the alignment you can see the gene page for that sequence.  Toward the bottom there will be a structure tab with a download link from the AlphaFold database.  Download all of the AlphaFold structures to the folder we made above.  Don't change the names as ChimeraX needs those names to keep connect the structures to the alignment."
   ]
  },
  {
   "cell_type": "markdown",
   "id": "9ae84a16-1643-40a3-afda-c135fccda39e",
   "metadata": {},
   "source": [
    "Once you have the structures downloaded you can select them all and open them as well as the .clustal alignment file in ChimeraX.  The clustal alignment will open in a side bar which you can drag away from the main ChimeraX window to make it bigger.  Just like with the normal ChimeraX sequence browser you can select residues on this screen and see them selected on the structures.  I selected the residues corresponding to the Drosophila 511-565 here:\n",
    "\n",
    "![chimera_alignment_selected.png](chimera_alignment_selected.png)\n",
    "\n",
    "Here are the structures with the highlighted selected regions:\n",
    "\n",
    "![chimera_structures_selected.png](chimera_structures_selected.png)"
   ]
  },
  {
   "cell_type": "markdown",
   "id": "3e30dc9f-b087-4018-8fad-bc02204c58a4",
   "metadata": {},
   "source": [
    "The structures are loaded in random orientations and we need to align them so we can see their similarities and differences.  Obviously significant portions of the protein are either disordered or poorly predicted. The regions that are conserved are also fairly well predicted (this also tells you something about how AlphaFold works).  To align our selected conserved regions, use the matchmaker tool (Tools>Structure analysis>Matchmaker).  There are lots of options but the default options restricting to the selection should work great:\n",
    "\n",
    "![chimera_matchmaker_tool.png](chimera_matchmaker_tool.png)\n",
    "\n",
    "Note that here I selected the human structure on the left to use it as the template for alignment.  Now our structures look much more consistent:\n",
    "\n",
    "![chimera_structures_aligned.png](chimera_structures_aligned.png)\n",
    "\n",
    "Note that this can get a bit tricky but I can typically get it to work by restricting my selection to more conserved regions."
   ]
  },
  {
   "cell_type": "markdown",
   "id": "c954c627-7fd1-40f5-8a20-9f2b2e6266d6",
   "metadata": {},
   "source": [
    "It's kind of a mess viewing the structure with all of that unconserved stuff.  You can select non-conserved regions and hide them with the cartoon/hide button to make things a little cleaner:\n",
    "\n",
    "![chimera_structures_aligned_selected.png](chimera_structures_aligned_selected.png)"
   ]
  },
  {
   "cell_type": "markdown",
   "id": "58945911-8c4e-4712-bd64-b4b155984802",
   "metadata": {},
   "source": [
    "As you can see here even in regions of somewhat lower conservation there is considerable structural uncertainty.  But it is clear that the homeobox DNA binding domain (left above) is very well conserved.  We can place colors on top of the structure to show the level of conservation.  In the command entry in ChimeraX (you can enable this with Tools>General>Command line interface) enter the following command: \"color byattr seq_conservation protein palette cyanmaroon range -1.4,1.4\".  This colors the protein by sequence conservation with the cyanmaroon palette.  Here is the result:\n",
    "\n",
    "![chimera_structures_aligned_conserv.png](chimera_structures_aligned_conserv.png)"
   ]
  },
  {
   "cell_type": "markdown",
   "id": "418675d2-4ef8-469b-9475-af9dc368000c",
   "metadata": {},
   "source": [
    "Here the maroon colored segments are well conserved.  You can see that the DNA binding domain is almost completely conserved across hundreds of millions of years of evolution while other regions (likely involved in co-factor interactions) are far less conserved."
   ]
  },
  {
   "cell_type": "markdown",
   "id": "6f8ac06a-e2a6-456b-8842-e66c312d80c5",
   "metadata": {},
   "source": [
    "### Homework\n",
    "Obviously AlphaFold as used above doesn't predict DNA binding, but the PDB 1B72 does show that interaction: https://www.rcsb.org/structure/1B72.  Download that structure and load it into ChimeraX and select it's conserved domain and align it with the structures above.  What non-conserved sequences might impact the function of this protein differently in these species?"
   ]
  },
  {
   "cell_type": "code",
   "execution_count": null,
   "id": "5f1f4c1d-f2ae-4836-8810-11e463831927",
   "metadata": {},
   "outputs": [],
   "source": []
  }
 ],
 "metadata": {
  "kernelspec": {
   "display_name": "jayenv",
   "language": "python",
   "name": "jayenv"
  },
  "language_info": {
   "codemirror_mode": {
    "name": "ipython",
    "version": 3
   },
   "file_extension": ".py",
   "mimetype": "text/x-python",
   "name": "python",
   "nbconvert_exporter": "python",
   "pygments_lexer": "ipython3",
   "version": "3.10.0"
  }
 },
 "nbformat": 4,
 "nbformat_minor": 5
}
